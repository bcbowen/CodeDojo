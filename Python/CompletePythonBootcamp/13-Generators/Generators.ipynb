{
 "cells": [
  {
   "cell_type": "code",
   "execution_count": 2,
   "id": "eaf26ded",
   "metadata": {},
   "outputs": [],
   "source": [
    "def create_cubes(n): \n",
    "    result = [] \n",
    "    for x in range(n): \n",
    "        result.append(x**3)\n",
    "    return result"
   ]
  },
  {
   "cell_type": "code",
   "execution_count": 3,
   "id": "84ce2a56",
   "metadata": {},
   "outputs": [
    {
     "name": "stdout",
     "output_type": "stream",
     "text": [
      "0\n",
      "1\n",
      "8\n",
      "27\n",
      "64\n",
      "125\n",
      "216\n",
      "343\n",
      "512\n",
      "729\n"
     ]
    }
   ],
   "source": [
    "for x in create_cubes(10): \n",
    "    print(x)"
   ]
  },
  {
   "cell_type": "code",
   "execution_count": 4,
   "id": "1ac242d1",
   "metadata": {},
   "outputs": [],
   "source": [
    "def generate_cubes(n): \n",
    "    for x in range(n): \n",
    "        yield(x**3)"
   ]
  },
  {
   "cell_type": "code",
   "execution_count": 5,
   "id": "b90a4c0b",
   "metadata": {},
   "outputs": [
    {
     "name": "stdout",
     "output_type": "stream",
     "text": [
      "0\n",
      "1\n",
      "8\n",
      "27\n",
      "64\n",
      "125\n",
      "216\n",
      "343\n",
      "512\n",
      "729\n"
     ]
    }
   ],
   "source": [
    "for x in generate_cubes(10): \n",
    "    print(x)"
   ]
  },
  {
   "cell_type": "code",
   "execution_count": 6,
   "id": "7427ecf9",
   "metadata": {},
   "outputs": [
    {
     "data": {
      "text/plain": [
       "[0, 1, 8, 27, 64, 125, 216, 343, 512, 729]"
      ]
     },
     "execution_count": 6,
     "metadata": {},
     "output_type": "execute_result"
    }
   ],
   "source": [
    "list(generate_cubes(10))"
   ]
  },
  {
   "cell_type": "code",
   "execution_count": 7,
   "id": "4bcab551",
   "metadata": {},
   "outputs": [],
   "source": [
    "def gen_fibs(n): \n",
    "    v1 = 0\n",
    "    v2 = 1\n",
    "    for i in range(n): \n",
    "        yield v1\n",
    "        v1, v2 = v2, v1 + v2\n",
    "        \n"
   ]
  },
  {
   "cell_type": "code",
   "execution_count": 8,
   "id": "90e81aef",
   "metadata": {},
   "outputs": [
    {
     "data": {
      "text/plain": [
       "[0, 1, 1, 2, 3, 5, 8, 13, 21, 34]"
      ]
     },
     "execution_count": 8,
     "metadata": {},
     "output_type": "execute_result"
    }
   ],
   "source": [
    "list(gen_fibs(10))"
   ]
  },
  {
   "cell_type": "markdown",
   "id": "eb228528",
   "metadata": {},
   "source": [
    "### Simple generator example\n",
    "Create generator and iterate through its values"
   ]
  },
  {
   "cell_type": "code",
   "execution_count": 9,
   "id": "e010546a",
   "metadata": {},
   "outputs": [],
   "source": [
    "def simple_gen(): \n",
    "    for i in range(3): \n",
    "        yield i"
   ]
  },
  {
   "cell_type": "code",
   "execution_count": null,
   "id": "b5e0d4b1",
   "metadata": {},
   "outputs": [
    {
     "name": "stdout",
     "output_type": "stream",
     "text": [
      "0\n",
      "1\n",
      "2\n"
     ]
    },
    {
     "ename": "StopIteration",
     "evalue": "",
     "output_type": "error",
     "traceback": [
      "\u001b[0;31m---------------------------------------------------------------------------\u001b[0m",
      "\u001b[0;31mStopIteration\u001b[0m                             Traceback (most recent call last)",
      "Cell \u001b[0;32mIn[10], line 5\u001b[0m\n\u001b[1;32m      3\u001b[0m \u001b[38;5;28mprint\u001b[39m(\u001b[38;5;28mnext\u001b[39m(g))\n\u001b[1;32m      4\u001b[0m \u001b[38;5;28mprint\u001b[39m(\u001b[38;5;28mnext\u001b[39m(g))\n\u001b[0;32m----> 5\u001b[0m \u001b[38;5;28mprint\u001b[39m(\u001b[38;5;28;43mnext\u001b[39;49m\u001b[43m(\u001b[49m\u001b[43mg\u001b[49m\u001b[43m)\u001b[49m)\n",
      "\u001b[0;31mStopIteration\u001b[0m: "
     ]
    }
   ],
   "source": [
    "g = simple_gen()\n",
    "print(next(g))\n",
    "print(next(g))\n",
    "print(next(g))\n",
    "# next line raises ex: iterator is already done\n",
    "print(next(g))"
   ]
  },
  {
   "cell_type": "markdown",
   "id": "8f24108e",
   "metadata": {},
   "source": [
    "### Iterator example with a string"
   ]
  },
  {
   "cell_type": "code",
   "execution_count": 11,
   "id": "601bde20",
   "metadata": {},
   "outputs": [],
   "source": [
    "s = \"hey dude\" "
   ]
  },
  {
   "cell_type": "markdown",
   "id": "952bbdda",
   "metadata": {},
   "source": [
    "we can iterate through characters: "
   ]
  },
  {
   "cell_type": "code",
   "execution_count": 12,
   "id": "8a8532e9",
   "metadata": {},
   "outputs": [
    {
     "name": "stdout",
     "output_type": "stream",
     "text": [
      "h\n",
      "e\n",
      "y\n",
      " \n",
      "d\n",
      "u\n",
      "d\n",
      "e\n"
     ]
    }
   ],
   "source": [
    "for c in s: \n",
    "    print(c)"
   ]
  },
  {
   "cell_type": "markdown",
   "id": "59dda238",
   "metadata": {},
   "source": [
    "We can't treat a string like a generator function though "
   ]
  },
  {
   "cell_type": "code",
   "execution_count": 13,
   "id": "c2aebbc6",
   "metadata": {},
   "outputs": [
    {
     "ename": "TypeError",
     "evalue": "'str' object is not an iterator",
     "output_type": "error",
     "traceback": [
      "\u001b[0;31m---------------------------------------------------------------------------\u001b[0m",
      "\u001b[0;31mTypeError\u001b[0m                                 Traceback (most recent call last)",
      "Cell \u001b[0;32mIn[13], line 2\u001b[0m\n\u001b[1;32m      1\u001b[0m s \u001b[38;5;241m=\u001b[39m \u001b[38;5;124m\"\u001b[39m\u001b[38;5;124mHey man\u001b[39m\u001b[38;5;124m\"\u001b[39m \n\u001b[0;32m----> 2\u001b[0m \u001b[38;5;28mprint\u001b[39m(\u001b[38;5;28;43mnext\u001b[39;49m\u001b[43m(\u001b[49m\u001b[43ms\u001b[49m\u001b[43m)\u001b[49m) \u001b[38;5;66;03m# error\u001b[39;00m\n",
      "\u001b[0;31mTypeError\u001b[0m: 'str' object is not an iterator"
     ]
    }
   ],
   "source": [
    "s = \"Hey man\" \n",
    "print(next(s)) # error"
   ]
  },
  {
   "cell_type": "markdown",
   "id": "1ad8241a",
   "metadata": {},
   "source": [
    "But we can create an iterator "
   ]
  },
  {
   "cell_type": "code",
   "execution_count": 17,
   "id": "a08f4c71",
   "metadata": {},
   "outputs": [
    {
     "name": "stdout",
     "output_type": "stream",
     "text": [
      "H\n",
      "e\n"
     ]
    }
   ],
   "source": [
    "s_iter = iter(s)\n",
    "print(next(s_iter))\n",
    "print(next(s_iter))"
   ]
  }
 ],
 "metadata": {
  "kernelspec": {
   "display_name": "venv",
   "language": "python",
   "name": "python3"
  },
  "language_info": {
   "codemirror_mode": {
    "name": "ipython",
    "version": 3
   },
   "file_extension": ".py",
   "mimetype": "text/x-python",
   "name": "python",
   "nbconvert_exporter": "python",
   "pygments_lexer": "ipython3",
   "version": "3.10.12"
  }
 },
 "nbformat": 4,
 "nbformat_minor": 5
}
