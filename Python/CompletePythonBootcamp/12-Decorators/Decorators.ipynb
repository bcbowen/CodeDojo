{
 "cells": [
  {
   "cell_type": "code",
   "execution_count": 3,
   "id": "69cc5694",
   "metadata": {},
   "outputs": [],
   "source": [
    "def func():\n",
    "    return 1"
   ]
  },
  {
   "cell_type": "code",
   "execution_count": 4,
   "id": "c9f96ae2",
   "metadata": {},
   "outputs": [
    {
     "data": {
      "text/plain": [
       "1"
      ]
     },
     "execution_count": 4,
     "metadata": {},
     "output_type": "execute_result"
    }
   ],
   "source": [
    "func()"
   ]
  },
  {
   "cell_type": "code",
   "execution_count": 5,
   "id": "f77ac47e",
   "metadata": {},
   "outputs": [],
   "source": [
    "def hello(): \n",
    "    return \"Hey there\""
   ]
  },
  {
   "cell_type": "code",
   "execution_count": 6,
   "id": "7f2b69bb",
   "metadata": {},
   "outputs": [
    {
     "data": {
      "text/plain": [
       "'Hey there'"
      ]
     },
     "execution_count": 6,
     "metadata": {},
     "output_type": "execute_result"
    }
   ],
   "source": [
    "hello()"
   ]
  },
  {
   "cell_type": "code",
   "execution_count": 9,
   "id": "93d46161",
   "metadata": {},
   "outputs": [
    {
     "name": "stdout",
     "output_type": "stream",
     "text": [
      "Hey there\n",
      "<function hello at 0x7f6039fecca0>\n",
      "<function hello at 0x7f6039fecca0>\n"
     ]
    }
   ],
   "source": [
    "greet = hello\n",
    "print(greet())\n",
    "print(hello) \n",
    "print(greet)"
   ]
  },
  {
   "cell_type": "code",
   "execution_count": 30,
   "id": "4a5a97b2",
   "metadata": {},
   "outputs": [],
   "source": [
    "def new_decorator(original_func): \n",
    "    def wrap_func(): \n",
    "        print('extra code before original func')\n",
    "        original_func()\n",
    "        print('extra code after original func')\n",
    "    return wrap_func"
   ]
  },
  {
   "cell_type": "code",
   "execution_count": 34,
   "id": "d3e59bd4",
   "metadata": {},
   "outputs": [],
   "source": [
    "@new_decorator\n",
    "def to_decorate(): \n",
    "    print('This will be decorated')"
   ]
  },
  {
   "cell_type": "code",
   "execution_count": 37,
   "id": "28c4d1aa",
   "metadata": {},
   "outputs": [
    {
     "name": "stdout",
     "output_type": "stream",
     "text": [
      "extra code before original func\n",
      "This will be decorated\n",
      "extra code after original func\n"
     ]
    }
   ],
   "source": [
    "to_decorate()\n"
   ]
  },
  {
   "cell_type": "code",
   "execution_count": 41,
   "id": "b3736a6b",
   "metadata": {},
   "outputs": [
    {
     "name": "stdout",
     "output_type": "stream",
     "text": [
      "\n"
     ]
    }
   ],
   "source": [
    "print()"
   ]
  }
 ],
 "metadata": {
  "kernelspec": {
   "display_name": "venv",
   "language": "python",
   "name": "python3"
  },
  "language_info": {
   "codemirror_mode": {
    "name": "ipython",
    "version": 3
   },
   "file_extension": ".py",
   "mimetype": "text/x-python",
   "name": "python",
   "nbconvert_exporter": "python",
   "pygments_lexer": "ipython3",
   "version": "3.10.12"
  }
 },
 "nbformat": 4,
 "nbformat_minor": 5
}
