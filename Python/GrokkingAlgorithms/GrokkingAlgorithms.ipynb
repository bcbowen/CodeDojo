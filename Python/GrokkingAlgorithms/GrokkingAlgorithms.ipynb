{
 "cells": [
  {
   "cell_type": "markdown",
   "id": "c8a89246",
   "metadata": {},
   "source": [
    "## Binary Search"
   ]
  },
  {
   "cell_type": "code",
   "execution_count": 5,
   "id": "ccbb97f8",
   "metadata": {},
   "outputs": [],
   "source": [
    "def binary_search(list, item): \n",
    "    lo = 0\n",
    "    hi = len(list) - 1\n",
    "    while lo <= hi: \n",
    "        mid = int((lo + hi) / 2)\n",
    "        guess = list[mid]\n",
    "        if guess == item: \n",
    "            return mid\n",
    "        elif guess > item: \n",
    "            hi = mid - 1\n",
    "        else: \n",
    "            lo = mid + 1\n",
    "    return None"
   ]
  },
  {
   "cell_type": "code",
   "execution_count": 6,
   "id": "45277a5b",
   "metadata": {},
   "outputs": [],
   "source": [
    "my_list = [1, 3, 5, 7, 9]"
   ]
  },
  {
   "cell_type": "code",
   "execution_count": 7,
   "id": "ec6b12a8",
   "metadata": {},
   "outputs": [
    {
     "name": "stdout",
     "output_type": "stream",
     "text": [
      "1\n"
     ]
    }
   ],
   "source": [
    "print(binary_search(my_list, 3)) # 1"
   ]
  },
  {
   "cell_type": "code",
   "execution_count": 8,
   "id": "0f680fd9",
   "metadata": {},
   "outputs": [
    {
     "name": "stdout",
     "output_type": "stream",
     "text": [
      "None\n"
     ]
    }
   ],
   "source": [
    "print(binary_search(my_list, 2)) # None"
   ]
  },
  {
   "cell_type": "code",
   "execution_count": 9,
   "id": "4c304ee4",
   "metadata": {},
   "outputs": [
    {
     "name": "stdout",
     "output_type": "stream",
     "text": [
      "4\n"
     ]
    }
   ],
   "source": [
    "print(binary_search(my_list, 9)) # 4"
   ]
  },
  {
   "cell_type": "markdown",
   "id": "70d38f2b",
   "metadata": {},
   "source": [
    "## Selection Sort"
   ]
  },
  {
   "cell_type": "code",
   "execution_count": 25,
   "id": "4098790c",
   "metadata": {},
   "outputs": [],
   "source": [
    "def FindSmallest(values):\n",
    "    #print(\"Finding smallest index in {0}\".format(values))\n",
    "    minValue = values[0]\n",
    "    index = 0\n",
    "    for i in range(1, len(values) - 1): \n",
    "        if values[i] < minValue: \n",
    "            index = i\n",
    "            minValue = values[i]\n",
    "    return index\n",
    "                   \n",
    "def SelectionSort(values): \n",
    "    sorted = []\n",
    "    while len(values) > 0: \n",
    "        mindex = FindSmallest(values)\n",
    "        sorted.append(values[mindex])\n",
    "        values.pop(mindex)\n",
    "    return sorted"
   ]
  },
  {
   "cell_type": "markdown",
   "id": "b5ed7d72",
   "metadata": {},
   "source": [
    "Selection Sort Tests"
   ]
  },
  {
   "cell_type": "code",
   "execution_count": 26,
   "id": "985def1f",
   "metadata": {},
   "outputs": [],
   "source": [
    "unsorted = [3,8,2,4,5,1,9]"
   ]
  },
  {
   "cell_type": "code",
   "execution_count": 27,
   "id": "02693932",
   "metadata": {},
   "outputs": [
    {
     "name": "stdout",
     "output_type": "stream",
     "text": [
      "5\n"
     ]
    }
   ],
   "source": [
    "mindex = FindSmallest(unsorted) # 5\n",
    "print(mindex)"
   ]
  },
  {
   "cell_type": "code",
   "execution_count": 28,
   "id": "9336f31e",
   "metadata": {},
   "outputs": [
    {
     "name": "stdout",
     "output_type": "stream",
     "text": [
      "[1, 2, 3, 4, 5, 8, 9]\n"
     ]
    }
   ],
   "source": [
    "sorted = SelectionSort(unsorted)\n",
    "print(sorted)"
   ]
  },
  {
   "cell_type": "markdown",
   "id": "ae8176a4",
   "metadata": {},
   "source": [
    "## Quick Sort"
   ]
  },
  {
   "cell_type": "code",
   "execution_count": 11,
   "id": "c85a0a71",
   "metadata": {},
   "outputs": [],
   "source": [
    "def QuickSort(values):\n",
    "    #print(\"Quicksort {0}\".format(values))\n",
    "    if len(values) < 2: \n",
    "        return values\n",
    "    \n",
    "    mid = int(len(values) / 2)\n",
    "    pivot = values[mid]\n",
    "    less = [i for i in values if i < pivot]\n",
    "    more = [i for i in values if i > pivot]\n",
    "    \n",
    "    return QuickSort(less) + [pivot] + QuickSort(more)"
   ]
  },
  {
   "cell_type": "code",
   "execution_count": 12,
   "id": "fd700543",
   "metadata": {},
   "outputs": [
    {
     "name": "stdout",
     "output_type": "stream",
     "text": [
      "[1, 2, 3, 4, 5, 8, 9]\n"
     ]
    }
   ],
   "source": [
    "unsorted = [3,8,2,4,5,1,9]\n",
    "sorted = QuickSort(unsorted)\n",
    "print(sorted)"
   ]
  },
  {
   "cell_type": "code",
   "execution_count": null,
   "id": "01ac8638",
   "metadata": {},
   "outputs": [],
   "source": []
  }
 ],
 "metadata": {
  "kernelspec": {
   "display_name": "Python 3 (ipykernel)",
   "language": "python",
   "name": "python3"
  },
  "language_info": {
   "codemirror_mode": {
    "name": "ipython",
    "version": 3
   },
   "file_extension": ".py",
   "mimetype": "text/x-python",
   "name": "python",
   "nbconvert_exporter": "python",
   "pygments_lexer": "ipython3",
   "version": "3.9.7"
  }
 },
 "nbformat": 4,
 "nbformat_minor": 5
}
